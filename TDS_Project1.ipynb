{
  "nbformat": 4,
  "nbformat_minor": 0,
  "metadata": {
    "colab": {
      "provenance": [],
      "toc_visible": true
    },
    "kernelspec": {
      "name": "python3",
      "display_name": "Python 3"
    },
    "language_info": {
      "name": "python"
    }
  },
  "cells": [
    {
      "cell_type": "markdown",
      "source": [
        "# Data Analysis of GitHub API scrapped dataset\n"
      ],
      "metadata": {
        "id": "ljjxLwQbQAMT"
      }
    },
    {
      "cell_type": "code",
      "execution_count": 7,
      "metadata": {
        "id": "7zHODI3EKoVZ"
      },
      "outputs": [],
      "source": [
        "import pandas as pd\n",
        "import numpy as np\n",
        "from sklearn.linear_model import LinearRegression\n",
        "from scipy.stats import pearsonr\n",
        "import seaborn as sns\n",
        "import matplotlib.pyplot as plt"
      ]
    },
    {
      "cell_type": "code",
      "source": [
        "users_df = pd.read_csv(\"/content/users.csv\")\n",
        "repos_df = pd.read_csv(\"/content/repositories.csv\")"
      ],
      "metadata": {
        "id": "xDP8FK6QLADa"
      },
      "execution_count": 8,
      "outputs": []
    },
    {
      "cell_type": "markdown",
      "source": [
        "## users dataset"
      ],
      "metadata": {
        "id": "7_wYf_GqQwYY"
      }
    },
    {
      "cell_type": "code",
      "source": [
        "users_df.head()"
      ],
      "metadata": {
        "colab": {
          "base_uri": "https://localhost:8080/",
          "height": 469
        },
        "id": "lw3tJMCePsAP",
        "outputId": "251329c6-1ac8-4dec-d963-1adf926e50dc"
      },
      "execution_count": 9,
      "outputs": [
        {
          "output_type": "execute_result",
          "data": {
            "text/plain": [
              "                    login             name company       location  \\\n",
              "0               brianyu28         Brian Yu     NaN     Boston, MA   \n",
              "1           PatrickAlphaC  Patrick Collins  CYFRIN         Boston   \n",
              "2              KeithGalli      Keith Galli     NaN     Boston, MA   \n",
              "3  CharlesCreativeContent    Shawn Charles  AMAZON     Boston, MA   \n",
              "4                   timbl  Tim Berners-Lee  INRUPT  Boston MA USA   \n",
              "\n",
              "              email hireable                                             bio  \\\n",
              "0  brian@brianyu.me      NaN                 Software developer and educator   \n",
              "1               NaN      NaN  Smart Contract Engineer, Auditor, and Educator   \n",
              "2               NaN     True                     YouTube Content Creator :).   \n",
              "3               NaN     True     Software Engineer building Tech Communities   \n",
              "4      timbl@w3.org      NaN                                             NaN   \n",
              "\n",
              "   public_repos  followers  following            created_at  \n",
              "0            35      13202         13  2015-11-29T07:25:29Z  \n",
              "1           272       9666         43  2019-08-19T14:13:41Z  \n",
              "2            53       5680          1  2013-12-25T19:49:26Z  \n",
              "3            83       5054       1092  2020-03-11T20:10:11Z  \n",
              "4            18       4850         69  2011-12-11T01:28:03Z  "
            ],
            "text/html": [
              "\n",
              "  <div id=\"df-cd572f35-4004-46b3-88aa-48bd245530eb\" class=\"colab-df-container\">\n",
              "    <div>\n",
              "<style scoped>\n",
              "    .dataframe tbody tr th:only-of-type {\n",
              "        vertical-align: middle;\n",
              "    }\n",
              "\n",
              "    .dataframe tbody tr th {\n",
              "        vertical-align: top;\n",
              "    }\n",
              "\n",
              "    .dataframe thead th {\n",
              "        text-align: right;\n",
              "    }\n",
              "</style>\n",
              "<table border=\"1\" class=\"dataframe\">\n",
              "  <thead>\n",
              "    <tr style=\"text-align: right;\">\n",
              "      <th></th>\n",
              "      <th>login</th>\n",
              "      <th>name</th>\n",
              "      <th>company</th>\n",
              "      <th>location</th>\n",
              "      <th>email</th>\n",
              "      <th>hireable</th>\n",
              "      <th>bio</th>\n",
              "      <th>public_repos</th>\n",
              "      <th>followers</th>\n",
              "      <th>following</th>\n",
              "      <th>created_at</th>\n",
              "    </tr>\n",
              "  </thead>\n",
              "  <tbody>\n",
              "    <tr>\n",
              "      <th>0</th>\n",
              "      <td>brianyu28</td>\n",
              "      <td>Brian Yu</td>\n",
              "      <td>NaN</td>\n",
              "      <td>Boston, MA</td>\n",
              "      <td>brian@brianyu.me</td>\n",
              "      <td>NaN</td>\n",
              "      <td>Software developer and educator</td>\n",
              "      <td>35</td>\n",
              "      <td>13202</td>\n",
              "      <td>13</td>\n",
              "      <td>2015-11-29T07:25:29Z</td>\n",
              "    </tr>\n",
              "    <tr>\n",
              "      <th>1</th>\n",
              "      <td>PatrickAlphaC</td>\n",
              "      <td>Patrick Collins</td>\n",
              "      <td>CYFRIN</td>\n",
              "      <td>Boston</td>\n",
              "      <td>NaN</td>\n",
              "      <td>NaN</td>\n",
              "      <td>Smart Contract Engineer, Auditor, and Educator</td>\n",
              "      <td>272</td>\n",
              "      <td>9666</td>\n",
              "      <td>43</td>\n",
              "      <td>2019-08-19T14:13:41Z</td>\n",
              "    </tr>\n",
              "    <tr>\n",
              "      <th>2</th>\n",
              "      <td>KeithGalli</td>\n",
              "      <td>Keith Galli</td>\n",
              "      <td>NaN</td>\n",
              "      <td>Boston, MA</td>\n",
              "      <td>NaN</td>\n",
              "      <td>True</td>\n",
              "      <td>YouTube Content Creator :).</td>\n",
              "      <td>53</td>\n",
              "      <td>5680</td>\n",
              "      <td>1</td>\n",
              "      <td>2013-12-25T19:49:26Z</td>\n",
              "    </tr>\n",
              "    <tr>\n",
              "      <th>3</th>\n",
              "      <td>CharlesCreativeContent</td>\n",
              "      <td>Shawn Charles</td>\n",
              "      <td>AMAZON</td>\n",
              "      <td>Boston, MA</td>\n",
              "      <td>NaN</td>\n",
              "      <td>True</td>\n",
              "      <td>Software Engineer building Tech Communities</td>\n",
              "      <td>83</td>\n",
              "      <td>5054</td>\n",
              "      <td>1092</td>\n",
              "      <td>2020-03-11T20:10:11Z</td>\n",
              "    </tr>\n",
              "    <tr>\n",
              "      <th>4</th>\n",
              "      <td>timbl</td>\n",
              "      <td>Tim Berners-Lee</td>\n",
              "      <td>INRUPT</td>\n",
              "      <td>Boston MA USA</td>\n",
              "      <td>timbl@w3.org</td>\n",
              "      <td>NaN</td>\n",
              "      <td>NaN</td>\n",
              "      <td>18</td>\n",
              "      <td>4850</td>\n",
              "      <td>69</td>\n",
              "      <td>2011-12-11T01:28:03Z</td>\n",
              "    </tr>\n",
              "  </tbody>\n",
              "</table>\n",
              "</div>\n",
              "    <div class=\"colab-df-buttons\">\n",
              "\n",
              "  <div class=\"colab-df-container\">\n",
              "    <button class=\"colab-df-convert\" onclick=\"convertToInteractive('df-cd572f35-4004-46b3-88aa-48bd245530eb')\"\n",
              "            title=\"Convert this dataframe to an interactive table.\"\n",
              "            style=\"display:none;\">\n",
              "\n",
              "  <svg xmlns=\"http://www.w3.org/2000/svg\" height=\"24px\" viewBox=\"0 -960 960 960\">\n",
              "    <path d=\"M120-120v-720h720v720H120Zm60-500h600v-160H180v160Zm220 220h160v-160H400v160Zm0 220h160v-160H400v160ZM180-400h160v-160H180v160Zm440 0h160v-160H620v160ZM180-180h160v-160H180v160Zm440 0h160v-160H620v160Z\"/>\n",
              "  </svg>\n",
              "    </button>\n",
              "\n",
              "  <style>\n",
              "    .colab-df-container {\n",
              "      display:flex;\n",
              "      gap: 12px;\n",
              "    }\n",
              "\n",
              "    .colab-df-convert {\n",
              "      background-color: #E8F0FE;\n",
              "      border: none;\n",
              "      border-radius: 50%;\n",
              "      cursor: pointer;\n",
              "      display: none;\n",
              "      fill: #1967D2;\n",
              "      height: 32px;\n",
              "      padding: 0 0 0 0;\n",
              "      width: 32px;\n",
              "    }\n",
              "\n",
              "    .colab-df-convert:hover {\n",
              "      background-color: #E2EBFA;\n",
              "      box-shadow: 0px 1px 2px rgba(60, 64, 67, 0.3), 0px 1px 3px 1px rgba(60, 64, 67, 0.15);\n",
              "      fill: #174EA6;\n",
              "    }\n",
              "\n",
              "    .colab-df-buttons div {\n",
              "      margin-bottom: 4px;\n",
              "    }\n",
              "\n",
              "    [theme=dark] .colab-df-convert {\n",
              "      background-color: #3B4455;\n",
              "      fill: #D2E3FC;\n",
              "    }\n",
              "\n",
              "    [theme=dark] .colab-df-convert:hover {\n",
              "      background-color: #434B5C;\n",
              "      box-shadow: 0px 1px 3px 1px rgba(0, 0, 0, 0.15);\n",
              "      filter: drop-shadow(0px 1px 2px rgba(0, 0, 0, 0.3));\n",
              "      fill: #FFFFFF;\n",
              "    }\n",
              "  </style>\n",
              "\n",
              "    <script>\n",
              "      const buttonEl =\n",
              "        document.querySelector('#df-cd572f35-4004-46b3-88aa-48bd245530eb button.colab-df-convert');\n",
              "      buttonEl.style.display =\n",
              "        google.colab.kernel.accessAllowed ? 'block' : 'none';\n",
              "\n",
              "      async function convertToInteractive(key) {\n",
              "        const element = document.querySelector('#df-cd572f35-4004-46b3-88aa-48bd245530eb');\n",
              "        const dataTable =\n",
              "          await google.colab.kernel.invokeFunction('convertToInteractive',\n",
              "                                                    [key], {});\n",
              "        if (!dataTable) return;\n",
              "\n",
              "        const docLinkHtml = 'Like what you see? Visit the ' +\n",
              "          '<a target=\"_blank\" href=https://colab.research.google.com/notebooks/data_table.ipynb>data table notebook</a>'\n",
              "          + ' to learn more about interactive tables.';\n",
              "        element.innerHTML = '';\n",
              "        dataTable['output_type'] = 'display_data';\n",
              "        await google.colab.output.renderOutput(dataTable, element);\n",
              "        const docLink = document.createElement('div');\n",
              "        docLink.innerHTML = docLinkHtml;\n",
              "        element.appendChild(docLink);\n",
              "      }\n",
              "    </script>\n",
              "  </div>\n",
              "\n",
              "\n",
              "<div id=\"df-ada49de4-9ccc-4da4-8db3-5f7fe439a4ce\">\n",
              "  <button class=\"colab-df-quickchart\" onclick=\"quickchart('df-ada49de4-9ccc-4da4-8db3-5f7fe439a4ce')\"\n",
              "            title=\"Suggest charts\"\n",
              "            style=\"display:none;\">\n",
              "\n",
              "<svg xmlns=\"http://www.w3.org/2000/svg\" height=\"24px\"viewBox=\"0 0 24 24\"\n",
              "     width=\"24px\">\n",
              "    <g>\n",
              "        <path d=\"M19 3H5c-1.1 0-2 .9-2 2v14c0 1.1.9 2 2 2h14c1.1 0 2-.9 2-2V5c0-1.1-.9-2-2-2zM9 17H7v-7h2v7zm4 0h-2V7h2v10zm4 0h-2v-4h2v4z\"/>\n",
              "    </g>\n",
              "</svg>\n",
              "  </button>\n",
              "\n",
              "<style>\n",
              "  .colab-df-quickchart {\n",
              "      --bg-color: #E8F0FE;\n",
              "      --fill-color: #1967D2;\n",
              "      --hover-bg-color: #E2EBFA;\n",
              "      --hover-fill-color: #174EA6;\n",
              "      --disabled-fill-color: #AAA;\n",
              "      --disabled-bg-color: #DDD;\n",
              "  }\n",
              "\n",
              "  [theme=dark] .colab-df-quickchart {\n",
              "      --bg-color: #3B4455;\n",
              "      --fill-color: #D2E3FC;\n",
              "      --hover-bg-color: #434B5C;\n",
              "      --hover-fill-color: #FFFFFF;\n",
              "      --disabled-bg-color: #3B4455;\n",
              "      --disabled-fill-color: #666;\n",
              "  }\n",
              "\n",
              "  .colab-df-quickchart {\n",
              "    background-color: var(--bg-color);\n",
              "    border: none;\n",
              "    border-radius: 50%;\n",
              "    cursor: pointer;\n",
              "    display: none;\n",
              "    fill: var(--fill-color);\n",
              "    height: 32px;\n",
              "    padding: 0;\n",
              "    width: 32px;\n",
              "  }\n",
              "\n",
              "  .colab-df-quickchart:hover {\n",
              "    background-color: var(--hover-bg-color);\n",
              "    box-shadow: 0 1px 2px rgba(60, 64, 67, 0.3), 0 1px 3px 1px rgba(60, 64, 67, 0.15);\n",
              "    fill: var(--button-hover-fill-color);\n",
              "  }\n",
              "\n",
              "  .colab-df-quickchart-complete:disabled,\n",
              "  .colab-df-quickchart-complete:disabled:hover {\n",
              "    background-color: var(--disabled-bg-color);\n",
              "    fill: var(--disabled-fill-color);\n",
              "    box-shadow: none;\n",
              "  }\n",
              "\n",
              "  .colab-df-spinner {\n",
              "    border: 2px solid var(--fill-color);\n",
              "    border-color: transparent;\n",
              "    border-bottom-color: var(--fill-color);\n",
              "    animation:\n",
              "      spin 1s steps(1) infinite;\n",
              "  }\n",
              "\n",
              "  @keyframes spin {\n",
              "    0% {\n",
              "      border-color: transparent;\n",
              "      border-bottom-color: var(--fill-color);\n",
              "      border-left-color: var(--fill-color);\n",
              "    }\n",
              "    20% {\n",
              "      border-color: transparent;\n",
              "      border-left-color: var(--fill-color);\n",
              "      border-top-color: var(--fill-color);\n",
              "    }\n",
              "    30% {\n",
              "      border-color: transparent;\n",
              "      border-left-color: var(--fill-color);\n",
              "      border-top-color: var(--fill-color);\n",
              "      border-right-color: var(--fill-color);\n",
              "    }\n",
              "    40% {\n",
              "      border-color: transparent;\n",
              "      border-right-color: var(--fill-color);\n",
              "      border-top-color: var(--fill-color);\n",
              "    }\n",
              "    60% {\n",
              "      border-color: transparent;\n",
              "      border-right-color: var(--fill-color);\n",
              "    }\n",
              "    80% {\n",
              "      border-color: transparent;\n",
              "      border-right-color: var(--fill-color);\n",
              "      border-bottom-color: var(--fill-color);\n",
              "    }\n",
              "    90% {\n",
              "      border-color: transparent;\n",
              "      border-bottom-color: var(--fill-color);\n",
              "    }\n",
              "  }\n",
              "</style>\n",
              "\n",
              "  <script>\n",
              "    async function quickchart(key) {\n",
              "      const quickchartButtonEl =\n",
              "        document.querySelector('#' + key + ' button');\n",
              "      quickchartButtonEl.disabled = true;  // To prevent multiple clicks.\n",
              "      quickchartButtonEl.classList.add('colab-df-spinner');\n",
              "      try {\n",
              "        const charts = await google.colab.kernel.invokeFunction(\n",
              "            'suggestCharts', [key], {});\n",
              "      } catch (error) {\n",
              "        console.error('Error during call to suggestCharts:', error);\n",
              "      }\n",
              "      quickchartButtonEl.classList.remove('colab-df-spinner');\n",
              "      quickchartButtonEl.classList.add('colab-df-quickchart-complete');\n",
              "    }\n",
              "    (() => {\n",
              "      let quickchartButtonEl =\n",
              "        document.querySelector('#df-ada49de4-9ccc-4da4-8db3-5f7fe439a4ce button');\n",
              "      quickchartButtonEl.style.display =\n",
              "        google.colab.kernel.accessAllowed ? 'block' : 'none';\n",
              "    })();\n",
              "  </script>\n",
              "</div>\n",
              "\n",
              "    </div>\n",
              "  </div>\n"
            ],
            "application/vnd.google.colaboratory.intrinsic+json": {
              "type": "dataframe",
              "variable_name": "users_df",
              "summary": "{\n  \"name\": \"users_df\",\n  \"rows\": 469,\n  \"fields\": [\n    {\n      \"column\": \"login\",\n      \"properties\": {\n        \"dtype\": \"string\",\n        \"num_unique_values\": 469,\n        \"samples\": [\n          \"jstedfast\",\n          \"Fang-Haoshu\",\n          \"qrush\"\n        ],\n        \"semantic_type\": \"\",\n        \"description\": \"\"\n      }\n    },\n    {\n      \"column\": \"name\",\n      \"properties\": {\n        \"dtype\": \"string\",\n        \"num_unique_values\": 466,\n        \"samples\": [\n          \"Jeffrey Stedfast\",\n          \"Matthew Kelly\",\n          \"Nick Quaranto\"\n        ],\n        \"semantic_type\": \"\",\n        \"description\": \"\"\n      }\n    },\n    {\n      \"column\": \"company\",\n      \"properties\": {\n        \"dtype\": \"category\",\n        \"num_unique_values\": 227,\n        \"samples\": [\n          \"TUPLEAPP\",\n          \"HARVARD UNIVERSITY\",\n          \"GINKGO BIOWORKS\"\n        ],\n        \"semantic_type\": \"\",\n        \"description\": \"\"\n      }\n    },\n    {\n      \"column\": \"location\",\n      \"properties\": {\n        \"dtype\": \"category\",\n        \"num_unique_values\": 57,\n        \"samples\": [\n          \"Boston, MA\",\n          \"Boston, New York, Los Angeles, Worldwide\",\n          \"Boston / San Francisco\"\n        ],\n        \"semantic_type\": \"\",\n        \"description\": \"\"\n      }\n    },\n    {\n      \"column\": \"email\",\n      \"properties\": {\n        \"dtype\": \"string\",\n        \"num_unique_values\": 236,\n        \"samples\": [\n          \"rkoutnik@gmail.com\",\n          \"james.f.kirk@gmail.com\",\n          \"tim@cloudauth.dev\"\n        ],\n        \"semantic_type\": \"\",\n        \"description\": \"\"\n      }\n    },\n    {\n      \"column\": \"hireable\",\n      \"properties\": {\n        \"dtype\": \"category\",\n        \"num_unique_values\": 1,\n        \"samples\": [\n          true\n        ],\n        \"semantic_type\": \"\",\n        \"description\": \"\"\n      }\n    },\n    {\n      \"column\": \"bio\",\n      \"properties\": {\n        \"dtype\": \"string\",\n        \"num_unique_values\": 315,\n        \"samples\": [\n          \"Java Champion, CNCF Ambassador, Developer Advocate, Technical Marketing,  International Speaker, Published Author  @opensourceway @quarkusio @redhat\"\n        ],\n        \"semantic_type\": \"\",\n        \"description\": \"\"\n      }\n    },\n    {\n      \"column\": \"public_repos\",\n      \"properties\": {\n        \"dtype\": \"number\",\n        \"std\": 143,\n        \"min\": 0,\n        \"max\": 1534,\n        \"num_unique_values\": 204,\n        \"samples\": [\n          129\n        ],\n        \"semantic_type\": \"\",\n        \"description\": \"\"\n      }\n    },\n    {\n      \"column\": \"followers\",\n      \"properties\": {\n        \"dtype\": \"number\",\n        \"std\": 1012,\n        \"min\": 101,\n        \"max\": 13202,\n        \"num_unique_values\": 262,\n        \"samples\": [\n          114\n        ],\n        \"semantic_type\": \"\",\n        \"description\": \"\"\n      }\n    },\n    {\n      \"column\": \"following\",\n      \"properties\": {\n        \"dtype\": \"number\",\n        \"std\": 270,\n        \"min\": 0,\n        \"max\": 2912,\n        \"num_unique_values\": 159,\n        \"samples\": [\n          707\n        ],\n        \"semantic_type\": \"\",\n        \"description\": \"\"\n      }\n    },\n    {\n      \"column\": \"created_at\",\n      \"properties\": {\n        \"dtype\": \"object\",\n        \"num_unique_values\": 469,\n        \"samples\": [\n          \"2010-07-20T20:09:58Z\"\n        ],\n        \"semantic_type\": \"\",\n        \"description\": \"\"\n      }\n    }\n  ]\n}"
            }
          },
          "metadata": {},
          "execution_count": 9
        }
      ]
    },
    {
      "cell_type": "markdown",
      "source": [
        "## repositories dataset"
      ],
      "metadata": {
        "id": "s2LtNW9kQ1dK"
      }
    },
    {
      "cell_type": "code",
      "source": [
        "repos_df.head()"
      ],
      "metadata": {
        "colab": {
          "base_uri": "https://localhost:8080/",
          "height": 293
        },
        "id": "ml02Knw3Py9x",
        "outputId": "b020a5da-b2f2-4798-b606-b56151f2c0c7"
      },
      "execution_count": 10,
      "outputs": [
        {
          "output_type": "execute_result",
          "data": {
            "text/plain": [
              "       login                    full_name            created_at  \\\n",
              "0  brianyu28               brianyu28/cs50  2019-09-17T15:00:36Z   \n",
              "1  brianyu28  brianyu28/scratch-to-blocks  2020-05-02T11:08:11Z   \n",
              "2  brianyu28            brianyu28/holyoke  2022-06-09T00:21:08Z   \n",
              "3  brianyu28           brianyu28/dispatch  2017-08-26T21:43:51Z   \n",
              "4  brianyu28         brianyu28/multicolor  2024-04-08T22:45:21Z   \n",
              "\n",
              "   stargazers_count  watchers_count    language  has_projects  has_wiki  \\\n",
              "0                19              19        HTML          True      True   \n",
              "1                11              11      Python          True      True   \n",
              "2                 6               6       Swift          True      True   \n",
              "3                39              39        Rust          True      True   \n",
              "4                 5               5  TypeScript          True      True   \n",
              "\n",
              "  license_name  \n",
              "0          NaN  \n",
              "1          NaN  \n",
              "2          NaN  \n",
              "3      gpl-3.0  \n",
              "4          NaN  "
            ],
            "text/html": [
              "\n",
              "  <div id=\"df-efedd934-96dc-4afa-bcb4-185002aec206\" class=\"colab-df-container\">\n",
              "    <div>\n",
              "<style scoped>\n",
              "    .dataframe tbody tr th:only-of-type {\n",
              "        vertical-align: middle;\n",
              "    }\n",
              "\n",
              "    .dataframe tbody tr th {\n",
              "        vertical-align: top;\n",
              "    }\n",
              "\n",
              "    .dataframe thead th {\n",
              "        text-align: right;\n",
              "    }\n",
              "</style>\n",
              "<table border=\"1\" class=\"dataframe\">\n",
              "  <thead>\n",
              "    <tr style=\"text-align: right;\">\n",
              "      <th></th>\n",
              "      <th>login</th>\n",
              "      <th>full_name</th>\n",
              "      <th>created_at</th>\n",
              "      <th>stargazers_count</th>\n",
              "      <th>watchers_count</th>\n",
              "      <th>language</th>\n",
              "      <th>has_projects</th>\n",
              "      <th>has_wiki</th>\n",
              "      <th>license_name</th>\n",
              "    </tr>\n",
              "  </thead>\n",
              "  <tbody>\n",
              "    <tr>\n",
              "      <th>0</th>\n",
              "      <td>brianyu28</td>\n",
              "      <td>brianyu28/cs50</td>\n",
              "      <td>2019-09-17T15:00:36Z</td>\n",
              "      <td>19</td>\n",
              "      <td>19</td>\n",
              "      <td>HTML</td>\n",
              "      <td>True</td>\n",
              "      <td>True</td>\n",
              "      <td>NaN</td>\n",
              "    </tr>\n",
              "    <tr>\n",
              "      <th>1</th>\n",
              "      <td>brianyu28</td>\n",
              "      <td>brianyu28/scratch-to-blocks</td>\n",
              "      <td>2020-05-02T11:08:11Z</td>\n",
              "      <td>11</td>\n",
              "      <td>11</td>\n",
              "      <td>Python</td>\n",
              "      <td>True</td>\n",
              "      <td>True</td>\n",
              "      <td>NaN</td>\n",
              "    </tr>\n",
              "    <tr>\n",
              "      <th>2</th>\n",
              "      <td>brianyu28</td>\n",
              "      <td>brianyu28/holyoke</td>\n",
              "      <td>2022-06-09T00:21:08Z</td>\n",
              "      <td>6</td>\n",
              "      <td>6</td>\n",
              "      <td>Swift</td>\n",
              "      <td>True</td>\n",
              "      <td>True</td>\n",
              "      <td>NaN</td>\n",
              "    </tr>\n",
              "    <tr>\n",
              "      <th>3</th>\n",
              "      <td>brianyu28</td>\n",
              "      <td>brianyu28/dispatch</td>\n",
              "      <td>2017-08-26T21:43:51Z</td>\n",
              "      <td>39</td>\n",
              "      <td>39</td>\n",
              "      <td>Rust</td>\n",
              "      <td>True</td>\n",
              "      <td>True</td>\n",
              "      <td>gpl-3.0</td>\n",
              "    </tr>\n",
              "    <tr>\n",
              "      <th>4</th>\n",
              "      <td>brianyu28</td>\n",
              "      <td>brianyu28/multicolor</td>\n",
              "      <td>2024-04-08T22:45:21Z</td>\n",
              "      <td>5</td>\n",
              "      <td>5</td>\n",
              "      <td>TypeScript</td>\n",
              "      <td>True</td>\n",
              "      <td>True</td>\n",
              "      <td>NaN</td>\n",
              "    </tr>\n",
              "  </tbody>\n",
              "</table>\n",
              "</div>\n",
              "    <div class=\"colab-df-buttons\">\n",
              "\n",
              "  <div class=\"colab-df-container\">\n",
              "    <button class=\"colab-df-convert\" onclick=\"convertToInteractive('df-efedd934-96dc-4afa-bcb4-185002aec206')\"\n",
              "            title=\"Convert this dataframe to an interactive table.\"\n",
              "            style=\"display:none;\">\n",
              "\n",
              "  <svg xmlns=\"http://www.w3.org/2000/svg\" height=\"24px\" viewBox=\"0 -960 960 960\">\n",
              "    <path d=\"M120-120v-720h720v720H120Zm60-500h600v-160H180v160Zm220 220h160v-160H400v160Zm0 220h160v-160H400v160ZM180-400h160v-160H180v160Zm440 0h160v-160H620v160ZM180-180h160v-160H180v160Zm440 0h160v-160H620v160Z\"/>\n",
              "  </svg>\n",
              "    </button>\n",
              "\n",
              "  <style>\n",
              "    .colab-df-container {\n",
              "      display:flex;\n",
              "      gap: 12px;\n",
              "    }\n",
              "\n",
              "    .colab-df-convert {\n",
              "      background-color: #E8F0FE;\n",
              "      border: none;\n",
              "      border-radius: 50%;\n",
              "      cursor: pointer;\n",
              "      display: none;\n",
              "      fill: #1967D2;\n",
              "      height: 32px;\n",
              "      padding: 0 0 0 0;\n",
              "      width: 32px;\n",
              "    }\n",
              "\n",
              "    .colab-df-convert:hover {\n",
              "      background-color: #E2EBFA;\n",
              "      box-shadow: 0px 1px 2px rgba(60, 64, 67, 0.3), 0px 1px 3px 1px rgba(60, 64, 67, 0.15);\n",
              "      fill: #174EA6;\n",
              "    }\n",
              "\n",
              "    .colab-df-buttons div {\n",
              "      margin-bottom: 4px;\n",
              "    }\n",
              "\n",
              "    [theme=dark] .colab-df-convert {\n",
              "      background-color: #3B4455;\n",
              "      fill: #D2E3FC;\n",
              "    }\n",
              "\n",
              "    [theme=dark] .colab-df-convert:hover {\n",
              "      background-color: #434B5C;\n",
              "      box-shadow: 0px 1px 3px 1px rgba(0, 0, 0, 0.15);\n",
              "      filter: drop-shadow(0px 1px 2px rgba(0, 0, 0, 0.3));\n",
              "      fill: #FFFFFF;\n",
              "    }\n",
              "  </style>\n",
              "\n",
              "    <script>\n",
              "      const buttonEl =\n",
              "        document.querySelector('#df-efedd934-96dc-4afa-bcb4-185002aec206 button.colab-df-convert');\n",
              "      buttonEl.style.display =\n",
              "        google.colab.kernel.accessAllowed ? 'block' : 'none';\n",
              "\n",
              "      async function convertToInteractive(key) {\n",
              "        const element = document.querySelector('#df-efedd934-96dc-4afa-bcb4-185002aec206');\n",
              "        const dataTable =\n",
              "          await google.colab.kernel.invokeFunction('convertToInteractive',\n",
              "                                                    [key], {});\n",
              "        if (!dataTable) return;\n",
              "\n",
              "        const docLinkHtml = 'Like what you see? Visit the ' +\n",
              "          '<a target=\"_blank\" href=https://colab.research.google.com/notebooks/data_table.ipynb>data table notebook</a>'\n",
              "          + ' to learn more about interactive tables.';\n",
              "        element.innerHTML = '';\n",
              "        dataTable['output_type'] = 'display_data';\n",
              "        await google.colab.output.renderOutput(dataTable, element);\n",
              "        const docLink = document.createElement('div');\n",
              "        docLink.innerHTML = docLinkHtml;\n",
              "        element.appendChild(docLink);\n",
              "      }\n",
              "    </script>\n",
              "  </div>\n",
              "\n",
              "\n",
              "<div id=\"df-29a6cb0a-84ed-4ac6-a40c-c440ef72b668\">\n",
              "  <button class=\"colab-df-quickchart\" onclick=\"quickchart('df-29a6cb0a-84ed-4ac6-a40c-c440ef72b668')\"\n",
              "            title=\"Suggest charts\"\n",
              "            style=\"display:none;\">\n",
              "\n",
              "<svg xmlns=\"http://www.w3.org/2000/svg\" height=\"24px\"viewBox=\"0 0 24 24\"\n",
              "     width=\"24px\">\n",
              "    <g>\n",
              "        <path d=\"M19 3H5c-1.1 0-2 .9-2 2v14c0 1.1.9 2 2 2h14c1.1 0 2-.9 2-2V5c0-1.1-.9-2-2-2zM9 17H7v-7h2v7zm4 0h-2V7h2v10zm4 0h-2v-4h2v4z\"/>\n",
              "    </g>\n",
              "</svg>\n",
              "  </button>\n",
              "\n",
              "<style>\n",
              "  .colab-df-quickchart {\n",
              "      --bg-color: #E8F0FE;\n",
              "      --fill-color: #1967D2;\n",
              "      --hover-bg-color: #E2EBFA;\n",
              "      --hover-fill-color: #174EA6;\n",
              "      --disabled-fill-color: #AAA;\n",
              "      --disabled-bg-color: #DDD;\n",
              "  }\n",
              "\n",
              "  [theme=dark] .colab-df-quickchart {\n",
              "      --bg-color: #3B4455;\n",
              "      --fill-color: #D2E3FC;\n",
              "      --hover-bg-color: #434B5C;\n",
              "      --hover-fill-color: #FFFFFF;\n",
              "      --disabled-bg-color: #3B4455;\n",
              "      --disabled-fill-color: #666;\n",
              "  }\n",
              "\n",
              "  .colab-df-quickchart {\n",
              "    background-color: var(--bg-color);\n",
              "    border: none;\n",
              "    border-radius: 50%;\n",
              "    cursor: pointer;\n",
              "    display: none;\n",
              "    fill: var(--fill-color);\n",
              "    height: 32px;\n",
              "    padding: 0;\n",
              "    width: 32px;\n",
              "  }\n",
              "\n",
              "  .colab-df-quickchart:hover {\n",
              "    background-color: var(--hover-bg-color);\n",
              "    box-shadow: 0 1px 2px rgba(60, 64, 67, 0.3), 0 1px 3px 1px rgba(60, 64, 67, 0.15);\n",
              "    fill: var(--button-hover-fill-color);\n",
              "  }\n",
              "\n",
              "  .colab-df-quickchart-complete:disabled,\n",
              "  .colab-df-quickchart-complete:disabled:hover {\n",
              "    background-color: var(--disabled-bg-color);\n",
              "    fill: var(--disabled-fill-color);\n",
              "    box-shadow: none;\n",
              "  }\n",
              "\n",
              "  .colab-df-spinner {\n",
              "    border: 2px solid var(--fill-color);\n",
              "    border-color: transparent;\n",
              "    border-bottom-color: var(--fill-color);\n",
              "    animation:\n",
              "      spin 1s steps(1) infinite;\n",
              "  }\n",
              "\n",
              "  @keyframes spin {\n",
              "    0% {\n",
              "      border-color: transparent;\n",
              "      border-bottom-color: var(--fill-color);\n",
              "      border-left-color: var(--fill-color);\n",
              "    }\n",
              "    20% {\n",
              "      border-color: transparent;\n",
              "      border-left-color: var(--fill-color);\n",
              "      border-top-color: var(--fill-color);\n",
              "    }\n",
              "    30% {\n",
              "      border-color: transparent;\n",
              "      border-left-color: var(--fill-color);\n",
              "      border-top-color: var(--fill-color);\n",
              "      border-right-color: var(--fill-color);\n",
              "    }\n",
              "    40% {\n",
              "      border-color: transparent;\n",
              "      border-right-color: var(--fill-color);\n",
              "      border-top-color: var(--fill-color);\n",
              "    }\n",
              "    60% {\n",
              "      border-color: transparent;\n",
              "      border-right-color: var(--fill-color);\n",
              "    }\n",
              "    80% {\n",
              "      border-color: transparent;\n",
              "      border-right-color: var(--fill-color);\n",
              "      border-bottom-color: var(--fill-color);\n",
              "    }\n",
              "    90% {\n",
              "      border-color: transparent;\n",
              "      border-bottom-color: var(--fill-color);\n",
              "    }\n",
              "  }\n",
              "</style>\n",
              "\n",
              "  <script>\n",
              "    async function quickchart(key) {\n",
              "      const quickchartButtonEl =\n",
              "        document.querySelector('#' + key + ' button');\n",
              "      quickchartButtonEl.disabled = true;  // To prevent multiple clicks.\n",
              "      quickchartButtonEl.classList.add('colab-df-spinner');\n",
              "      try {\n",
              "        const charts = await google.colab.kernel.invokeFunction(\n",
              "            'suggestCharts', [key], {});\n",
              "      } catch (error) {\n",
              "        console.error('Error during call to suggestCharts:', error);\n",
              "      }\n",
              "      quickchartButtonEl.classList.remove('colab-df-spinner');\n",
              "      quickchartButtonEl.classList.add('colab-df-quickchart-complete');\n",
              "    }\n",
              "    (() => {\n",
              "      let quickchartButtonEl =\n",
              "        document.querySelector('#df-29a6cb0a-84ed-4ac6-a40c-c440ef72b668 button');\n",
              "      quickchartButtonEl.style.display =\n",
              "        google.colab.kernel.accessAllowed ? 'block' : 'none';\n",
              "    })();\n",
              "  </script>\n",
              "</div>\n",
              "\n",
              "    </div>\n",
              "  </div>\n"
            ],
            "application/vnd.google.colaboratory.intrinsic+json": {
              "type": "dataframe",
              "variable_name": "repos_df",
              "summary": "{\n  \"name\": \"repos_df\",\n  \"rows\": 42494,\n  \"fields\": [\n    {\n      \"column\": \"login\",\n      \"properties\": {\n        \"dtype\": \"category\",\n        \"num_unique_values\": 466,\n        \"samples\": [\n          \"jstedfast\",\n          \"MatthewPeterKelly\",\n          \"qrush\"\n        ],\n        \"semantic_type\": \"\",\n        \"description\": \"\"\n      }\n    },\n    {\n      \"column\": \"full_name\",\n      \"properties\": {\n        \"dtype\": \"string\",\n        \"num_unique_values\": 42492,\n        \"samples\": [\n          \"stites/haskell-ex\",\n          \"cameronraysmith/poetry\",\n          \"brandly/swift-aoc-2023\"\n        ],\n        \"semantic_type\": \"\",\n        \"description\": \"\"\n      }\n    },\n    {\n      \"column\": \"created_at\",\n      \"properties\": {\n        \"dtype\": \"object\",\n        \"num_unique_values\": 42486,\n        \"samples\": [\n          \"2020-07-19T18:29:44Z\",\n          \"2017-03-13T16:51:33Z\",\n          \"2012-09-23T13:00:42Z\"\n        ],\n        \"semantic_type\": \"\",\n        \"description\": \"\"\n      }\n    },\n    {\n      \"column\": \"stargazers_count\",\n      \"properties\": {\n        \"dtype\": \"number\",\n        \"std\": 337,\n        \"min\": 0,\n        \"max\": 34080,\n        \"num_unique_values\": 612,\n        \"samples\": [\n          75,\n          88,\n          31\n        ],\n        \"semantic_type\": \"\",\n        \"description\": \"\"\n      }\n    },\n    {\n      \"column\": \"watchers_count\",\n      \"properties\": {\n        \"dtype\": \"number\",\n        \"std\": 337,\n        \"min\": 0,\n        \"max\": 34080,\n        \"num_unique_values\": 612,\n        \"samples\": [\n          75,\n          88,\n          31\n        ],\n        \"semantic_type\": \"\",\n        \"description\": \"\"\n      }\n    },\n    {\n      \"column\": \"language\",\n      \"properties\": {\n        \"dtype\": \"category\",\n        \"num_unique_values\": 206,\n        \"samples\": [\n          \"Jupyter Notebook\",\n          \"Solidity\",\n          \"Mermaid\"\n        ],\n        \"semantic_type\": \"\",\n        \"description\": \"\"\n      }\n    },\n    {\n      \"column\": \"has_projects\",\n      \"properties\": {\n        \"dtype\": \"boolean\",\n        \"num_unique_values\": 2,\n        \"samples\": [\n          false,\n          true\n        ],\n        \"semantic_type\": \"\",\n        \"description\": \"\"\n      }\n    },\n    {\n      \"column\": \"has_wiki\",\n      \"properties\": {\n        \"dtype\": \"boolean\",\n        \"num_unique_values\": 2,\n        \"samples\": [\n          false,\n          true\n        ],\n        \"semantic_type\": \"\",\n        \"description\": \"\"\n      }\n    },\n    {\n      \"column\": \"license_name\",\n      \"properties\": {\n        \"dtype\": \"category\",\n        \"num_unique_values\": 35,\n        \"samples\": [\n          \"vim\",\n          \"isc\"\n        ],\n        \"semantic_type\": \"\",\n        \"description\": \"\"\n      }\n    }\n  ]\n}"
            }
          },
          "metadata": {},
          "execution_count": 10
        }
      ]
    },
    {
      "cell_type": "code",
      "source": [
        "top_followers = users_df.nlargest(5, 'followers')['login'].tolist()\n",
        "print(\"1. Top 5 users by followers:\", ', '.join(top_followers))"
      ],
      "metadata": {
        "colab": {
          "base_uri": "https://localhost:8080/"
        },
        "id": "VmYHAhgCLFNX",
        "outputId": "54be444c-32c4-4cba-f0f7-4ec6c68de6d4"
      },
      "execution_count": 11,
      "outputs": [
        {
          "output_type": "stream",
          "name": "stdout",
          "text": [
            "1. Top 5 users by followers: brianyu28, PatrickAlphaC, KeithGalli, CharlesCreativeContent, timbl\n"
          ]
        }
      ]
    },
    {
      "cell_type": "code",
      "source": [
        "users_df['created_at'] = pd.to_datetime(users_df['created_at'], errors='coerce')\n",
        "\n",
        "earliest_users = users_df.nsmallest(5, 'created_at')['login'].tolist()\n",
        "print(\"2. Earliest registered users:\", ', '.join(earliest_users))"
      ],
      "metadata": {
        "colab": {
          "base_uri": "https://localhost:8080/"
        },
        "id": "PWjmlhELLHV7",
        "outputId": "fdca12f1-a05a-4d44-89dc-fca8ff560edd"
      },
      "execution_count": 12,
      "outputs": [
        {
          "output_type": "stream",
          "name": "stdout",
          "text": [
            "2. Earliest registered users: evan, dpickett, tel, radical, joshuaclayton\n"
          ]
        }
      ]
    },
    {
      "cell_type": "code",
      "source": [
        "popular_licenses = repos_df['license_name'].value_counts().nlargest(3).index.tolist()\n",
        "print(\"3. Top 3 licenses:\", ', '.join(popular_licenses))"
      ],
      "metadata": {
        "colab": {
          "base_uri": "https://localhost:8080/"
        },
        "id": "MucKu_ccO0TA",
        "outputId": "08b12648-05b6-4c75-a1e5-1540a9a871d6"
      },
      "execution_count": 13,
      "outputs": [
        {
          "output_type": "stream",
          "name": "stdout",
          "text": [
            "3. Top 3 licenses: mit, other, apache-2.0\n"
          ]
        }
      ]
    },
    {
      "cell_type": "code",
      "source": [
        "majority_company = users_df['company'].mode()[0]\n",
        "print(\"4. Majority company:\", majority_company)"
      ],
      "metadata": {
        "colab": {
          "base_uri": "https://localhost:8080/"
        },
        "id": "Gafmhr_KPE5z",
        "outputId": "d9443718-c3cd-4828-80f0-042b855f9caf"
      },
      "execution_count": 14,
      "outputs": [
        {
          "output_type": "stream",
          "name": "stdout",
          "text": [
            "4. Majority company: NORTHEASTERN UNIVERSITY\n"
          ]
        }
      ]
    },
    {
      "cell_type": "code",
      "source": [
        "popular_language = repos_df['language'].mode()[0]\n",
        "print(\"5. Most popular language:\", popular_language)"
      ],
      "metadata": {
        "colab": {
          "base_uri": "https://localhost:8080/"
        },
        "id": "U9TJq7lnPGtA",
        "outputId": "18b25a1b-3a74-4075-ac27-b895825af8d0"
      },
      "execution_count": 15,
      "outputs": [
        {
          "output_type": "stream",
          "name": "stdout",
          "text": [
            "5. Most popular language: JavaScript\n"
          ]
        }
      ]
    },
    {
      "cell_type": "code",
      "source": [
        "users_2020 = users_df[users_df['created_at'] > '2020-01-01']\n",
        "popular_language_2020 = repos_df[repos_df['login'].isin(users_2020['login'])]\n",
        "second_popular_language = popular_language_2020['language'].value_counts().index[1]\n",
        "print(\"6. Second most popular language after 2020:\", second_popular_language)"
      ],
      "metadata": {
        "colab": {
          "base_uri": "https://localhost:8080/"
        },
        "id": "Dv7FtTN9PG4o",
        "outputId": "1022d20e-e80a-473f-c430-dc0755f86961"
      },
      "execution_count": 16,
      "outputs": [
        {
          "output_type": "stream",
          "name": "stdout",
          "text": [
            "6. Second most popular language after 2020: Python\n"
          ]
        }
      ]
    },
    {
      "cell_type": "code",
      "source": [
        "avg_stars_language = repos_df.groupby('language')['stargazers_count'].mean().idxmax()\n",
        "print(\"7. Language with highest avg stars:\", avg_stars_language)"
      ],
      "metadata": {
        "colab": {
          "base_uri": "https://localhost:8080/"
        },
        "id": "KJgOJb7NPHB8",
        "outputId": "ec5ddd84-a0fb-473d-bc97-64f0abdaddfe"
      },
      "execution_count": 17,
      "outputs": [
        {
          "output_type": "stream",
          "name": "stdout",
          "text": [
            "7. Language with highest avg stars: SQL\n"
          ]
        }
      ]
    },
    {
      "cell_type": "code",
      "source": [
        "users_df['leader_strength'] = users_df['followers'] / (1 + users_df['following'])\n",
        "top_leaders = users_df.nlargest(5, 'leader_strength')['login'].tolist()\n",
        "print(\"8. Top 5 by leader_strength:\", ', '.join(top_leaders))"
      ],
      "metadata": {
        "colab": {
          "base_uri": "https://localhost:8080/"
        },
        "id": "kacy-13uPHKH",
        "outputId": "3439768e-370d-4ffe-cd19-b728ecb5d7d1"
      },
      "execution_count": 18,
      "outputs": [
        {
          "output_type": "stream",
          "name": "stdout",
          "text": [
            "8. Top 5 by leader_strength: nikomatsakis, ccoenraets, KeithGalli, rstudio, pluskid\n"
          ]
        }
      ]
    },
    {
      "cell_type": "code",
      "source": [
        "correlation_followers_repos = users_df[['followers', 'public_repos']].corr().iloc[0, 1]\n",
        "print(f\"9. Correlation between followers and repos: {correlation_followers_repos:.3f}\")"
      ],
      "metadata": {
        "colab": {
          "base_uri": "https://localhost:8080/"
        },
        "id": "tQOoXGIcPHQx",
        "outputId": "11441309-bedd-4834-d76b-420750534d6b"
      },
      "execution_count": 19,
      "outputs": [
        {
          "output_type": "stream",
          "name": "stdout",
          "text": [
            "9. Correlation between followers and repos: 0.168\n"
          ]
        }
      ]
    },
    {
      "cell_type": "code",
      "source": [
        "model = LinearRegression()\n",
        "model.fit(users_df[['public_repos']], users_df['followers'])\n",
        "slope_followers_repos = model.coef_[0]\n",
        "print(f\"10. Regression slope for followers on repos: {slope_followers_repos:.3f}\")"
      ],
      "metadata": {
        "colab": {
          "base_uri": "https://localhost:8080/"
        },
        "id": "UGCpCiTMPHWi",
        "outputId": "15c3a039-4653-40c6-c9c8-0754293b23ab"
      },
      "execution_count": 20,
      "outputs": [
        {
          "output_type": "stream",
          "name": "stdout",
          "text": [
            "10. Regression slope for followers on repos: 1.191\n"
          ]
        }
      ]
    },
    {
      "cell_type": "code",
      "source": [
        "correlation_projects_wiki = repos_df[['has_projects', 'has_wiki']].corr().iloc[0, 1]\n",
        "print(f\"11. Correlation between projects and wiki enabled: {correlation_projects_wiki:.3f}\")"
      ],
      "metadata": {
        "colab": {
          "base_uri": "https://localhost:8080/"
        },
        "id": "RSvMhxMgPHbm",
        "outputId": "f1f7eaa4-6418-4110-95a2-c122d57de743"
      },
      "execution_count": 21,
      "outputs": [
        {
          "output_type": "stream",
          "name": "stdout",
          "text": [
            "11. Correlation between projects and wiki enabled: 0.324\n"
          ]
        }
      ]
    },
    {
      "cell_type": "code",
      "source": [
        "avg_following_hireable = users_df[users_df['hireable'] == True]['following'].mean()\n",
        "avg_following_non_hireable = users_df[users_df['hireable'] == False]['following'].mean()\n",
        "following_diff = avg_following_hireable - avg_following_non_hireable\n",
        "print(f\"12. Difference in following for hireable vs. non-hireable: {following_diff:.3f}\")"
      ],
      "metadata": {
        "colab": {
          "base_uri": "https://localhost:8080/"
        },
        "id": "sNp0n-qmPHgb",
        "outputId": "44f670d4-48c4-4b08-a6dc-80d153b4def8"
      },
      "execution_count": 22,
      "outputs": [
        {
          "output_type": "stream",
          "name": "stdout",
          "text": [
            "12. Difference in following for hireable vs. non-hireable: nan\n"
          ]
        }
      ]
    },
    {
      "cell_type": "code",
      "source": [
        "users_with_bio = users_df[users_df['bio'].notnull()]\n",
        "users_with_bio['bio_word_count'] = users_with_bio['bio'].str.split().apply(len)\n",
        "model.fit(users_with_bio[['bio_word_count']], users_with_bio['followers'])\n",
        "slope_bio_followers = model.coef_[0]\n",
        "print(f\"13. Regression slope for followers on bio word count: {slope_bio_followers:.3f}\")"
      ],
      "metadata": {
        "colab": {
          "base_uri": "https://localhost:8080/"
        },
        "id": "tK4PeXH6PHk6",
        "outputId": "25097e65-09e5-4453-d8e7-f2aa43841469"
      },
      "execution_count": 23,
      "outputs": [
        {
          "output_type": "stream",
          "name": "stdout",
          "text": [
            "13. Regression slope for followers on bio word count: -5.303\n"
          ]
        },
        {
          "output_type": "stream",
          "name": "stderr",
          "text": [
            "<ipython-input-23-534224a47aff>:2: SettingWithCopyWarning: \n",
            "A value is trying to be set on a copy of a slice from a DataFrame.\n",
            "Try using .loc[row_indexer,col_indexer] = value instead\n",
            "\n",
            "See the caveats in the documentation: https://pandas.pydata.org/pandas-docs/stable/user_guide/indexing.html#returning-a-view-versus-a-copy\n",
            "  users_with_bio['bio_word_count'] = users_with_bio['bio'].str.split().apply(len)\n"
          ]
        }
      ]
    },
    {
      "cell_type": "code",
      "source": [
        "repos_df['created_at'] = pd.to_datetime(repos_df['created_at'])\n",
        "repos_df['day_of_week'] = repos_df['created_at'].dt.dayofweek\n",
        "weekend_repos = repos_df[repos_df['day_of_week'].isin([5, 6])]\n",
        "top_weekend_users = weekend_repos['login'].value_counts().nlargest(5).index.tolist()\n",
        "print(\"14. Top 5 users with most repos on weekends:\", ', '.join(top_weekend_users))"
      ],
      "metadata": {
        "colab": {
          "base_uri": "https://localhost:8080/"
        },
        "id": "c_pgZyd3PHqA",
        "outputId": "7270b585-17ea-4eee-b562-86b2e5f5bb0a"
      },
      "execution_count": 24,
      "outputs": [
        {
          "output_type": "stream",
          "name": "stdout",
          "text": [
            "14. Top 5 users with most repos on weekends: cameronraysmith, berquist, burtbeckwith, jimkang, johnny-rice\n"
          ]
        }
      ]
    },
    {
      "cell_type": "code",
      "source": [
        "hireable_with_email = users_df[users_df['hireable'] == True]['email'].notnull().mean()\n",
        "non_hireable_with_email = users_df[users_df['hireable'] == False]['email'].notnull().mean()\n",
        "email_diff = hireable_with_email - non_hireable_with_email\n",
        "print(f\"15. Difference in email presence for hireable vs. non-hireable: {email_diff:.3f}\")"
      ],
      "metadata": {
        "colab": {
          "base_uri": "https://localhost:8080/"
        },
        "id": "0kw1jbqDPHul",
        "outputId": "318f979a-117c-44be-f7ae-cbe5884449fb"
      },
      "execution_count": 25,
      "outputs": [
        {
          "output_type": "stream",
          "name": "stdout",
          "text": [
            "15. Difference in email presence for hireable vs. non-hireable: nan\n"
          ]
        }
      ]
    },
    {
      "cell_type": "code",
      "source": [
        "users_df['surname'] = users_df['name'].str.split().str[-1]\n",
        "most_common_surname = users_df['surname'].mode().tolist()\n",
        "print(\"16. Most common surname(s):\", ', '.join(sorted(most_common_surname)))"
      ],
      "metadata": {
        "colab": {
          "base_uri": "https://localhost:8080/"
        },
        "id": "VdeGqcy_LKWw",
        "outputId": "052f35bd-4a6d-4506-e946-0678e7a75c2c"
      },
      "execution_count": 26,
      "outputs": [
        {
          "output_type": "stream",
          "name": "stdout",
          "text": [
            "16. Most common surname(s): Williams\n"
          ]
        }
      ]
    }
  ]
}